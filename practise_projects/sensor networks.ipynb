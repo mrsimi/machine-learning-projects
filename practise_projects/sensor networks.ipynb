{
 "cells": [
  {
   "cell_type": "code",
   "execution_count": 1,
   "metadata": {},
   "outputs": [
    {
     "name": "stdout",
     "output_type": "stream",
     "text": [
      "Collecting dopamine-rl\n",
      "  Downloading https://files.pythonhosted.org/packages/a3/60/ce40162119275f8961b79ee16d98038f4ca85c2b449daced3b5900952c27/dopamine_rl-1.0.2-py3-none-any.whl (65kB)\n",
      "Requirement already satisfied, skipping upgrade: absl-py>=0.2.2 in c:\\users\\simi\\appdata\\local\\conda\\conda\\envs\\my_root\\lib\\site-packages (from dopamine-rl) (0.3.0)\n",
      "Collecting gin-config>=0.1.1 (from dopamine-rl)\n",
      "  Downloading https://files.pythonhosted.org/packages/e4/07/c8054ce483f058cd8fa2368c61502f65ab31d09d4c9013b976a576c20758/gin_config-0.1.1.2-py3-none-any.whl\n",
      "Requirement already satisfied, skipping upgrade: tensorflow in c:\\users\\simi\\appdata\\local\\conda\\conda\\envs\\my_root\\lib\\site-packages (from dopamine-rl) (1.8.0)\n",
      "Collecting gym>=0.10.5 (from dopamine-rl)\n",
      "  Downloading https://files.pythonhosted.org/packages/9b/50/ed4a03d2be47ffd043be2ee514f329ce45d98a30fe2d1b9c61dea5a9d861/gym-0.10.5.tar.gz (1.5MB)\n",
      "Collecting opencv-python>=3.4.1.15 (from dopamine-rl)\n",
      "  Downloading https://files.pythonhosted.org/packages/17/2f/d9cc975666db25dcc412b76f46510ece2bd921465a361336d441a8313dc6/opencv_python-3.4.3.18-cp36-cp36m-win_amd64.whl (33.8MB)\n",
      "Requirement already satisfied, skipping upgrade: six in c:\\users\\simi\\appdata\\local\\conda\\conda\\envs\\my_root\\lib\\site-packages (from absl-py>=0.2.2->dopamine-rl) (1.11.0)\n",
      "Requirement already satisfied, skipping upgrade: tensorboard<1.9.0,>=1.8.0 in c:\\users\\simi\\appdata\\local\\conda\\conda\\envs\\my_root\\lib\\site-packages (from tensorflow->dopamine-rl) (1.8.0)\n",
      "Requirement already satisfied, skipping upgrade: protobuf>=3.4.0 in c:\\users\\simi\\appdata\\local\\conda\\conda\\envs\\my_root\\lib\\site-packages (from tensorflow->dopamine-rl) (3.5.2)\n",
      "Requirement already satisfied, skipping upgrade: termcolor>=1.1.0 in c:\\users\\simi\\appdata\\local\\conda\\conda\\envs\\my_root\\lib\\site-packages (from tensorflow->dopamine-rl) (1.1.0)\n",
      "Requirement already satisfied, skipping upgrade: astor>=0.6.0 in c:\\users\\simi\\appdata\\local\\conda\\conda\\envs\\my_root\\lib\\site-packages (from tensorflow->dopamine-rl) (0.7.1)\n",
      "Requirement already satisfied, skipping upgrade: wheel>=0.26 in c:\\users\\simi\\appdata\\local\\conda\\conda\\envs\\my_root\\lib\\site-packages (from tensorflow->dopamine-rl) (0.31.1)\n",
      "Requirement already satisfied, skipping upgrade: numpy>=1.13.3 in c:\\users\\simi\\appdata\\local\\conda\\conda\\envs\\my_root\\lib\\site-packages (from tensorflow->dopamine-rl) (1.13.3)\n",
      "Requirement already satisfied, skipping upgrade: gast>=0.2.0 in c:\\users\\simi\\appdata\\local\\conda\\conda\\envs\\my_root\\lib\\site-packages (from tensorflow->dopamine-rl) (0.2.0)\n",
      "Requirement already satisfied, skipping upgrade: grpcio>=1.8.6 in c:\\users\\simi\\appdata\\local\\conda\\conda\\envs\\my_root\\lib\\site-packages (from tensorflow->dopamine-rl) (1.12.1)\n",
      "Requirement already satisfied, skipping upgrade: requests>=2.0 in c:\\users\\simi\\appdata\\local\\conda\\conda\\envs\\my_root\\lib\\site-packages (from gym>=0.10.5->dopamine-rl) (2.19.1)\n",
      "Requirement already satisfied, skipping upgrade: pyglet>=1.2.0 in c:\\users\\simi\\appdata\\local\\conda\\conda\\envs\\my_root\\lib\\site-packages (from gym>=0.10.5->dopamine-rl) (1.3.2)\n",
      "Requirement already satisfied, skipping upgrade: bleach==1.5.0 in c:\\users\\simi\\appdata\\local\\conda\\conda\\envs\\my_root\\lib\\site-packages (from tensorboard<1.9.0,>=1.8.0->tensorflow->dopamine-rl) (1.5.0)\n",
      "Requirement already satisfied, skipping upgrade: werkzeug>=0.11.10 in c:\\users\\simi\\appdata\\local\\conda\\conda\\envs\\my_root\\lib\\site-packages (from tensorboard<1.9.0,>=1.8.0->tensorflow->dopamine-rl) (0.12.2)\n",
      "Requirement already satisfied, skipping upgrade: html5lib==0.9999999 in c:\\users\\simi\\appdata\\local\\conda\\conda\\envs\\my_root\\lib\\site-packages (from tensorboard<1.9.0,>=1.8.0->tensorflow->dopamine-rl) (0.9999999)\n",
      "Requirement already satisfied, skipping upgrade: markdown>=2.6.8 in c:\\users\\simi\\appdata\\local\\conda\\conda\\envs\\my_root\\lib\\site-packages (from tensorboard<1.9.0,>=1.8.0->tensorflow->dopamine-rl) (2.6.11)\n",
      "Requirement already satisfied, skipping upgrade: setuptools in c:\\users\\simi\\appdata\\local\\conda\\conda\\envs\\my_root\\lib\\site-packages (from protobuf>=3.4.0->tensorflow->dopamine-rl) (40.0.0)\n",
      "Requirement already satisfied, skipping upgrade: certifi>=2017.4.17 in c:\\users\\simi\\appdata\\local\\conda\\conda\\envs\\my_root\\lib\\site-packages (from requests>=2.0->gym>=0.10.5->dopamine-rl) (2017.7.27.1)\n",
      "Requirement already satisfied, skipping upgrade: chardet<3.1.0,>=3.0.2 in c:\\users\\simi\\appdata\\local\\conda\\conda\\envs\\my_root\\lib\\site-packages (from requests>=2.0->gym>=0.10.5->dopamine-rl) (3.0.4)\n",
      "Requirement already satisfied, skipping upgrade: idna<2.8,>=2.5 in c:\\users\\simi\\appdata\\local\\conda\\conda\\envs\\my_root\\lib\\site-packages (from requests>=2.0->gym>=0.10.5->dopamine-rl) (2.6)\n",
      "Requirement already satisfied, skipping upgrade: urllib3<1.24,>=1.21.1 in c:\\users\\simi\\appdata\\local\\conda\\conda\\envs\\my_root\\lib\\site-packages (from requests>=2.0->gym>=0.10.5->dopamine-rl) (1.23)\n",
      "Requirement already satisfied, skipping upgrade: future in c:\\users\\simi\\appdata\\local\\conda\\conda\\envs\\my_root\\lib\\site-packages (from pyglet>=1.2.0->gym>=0.10.5->dopamine-rl) (0.16.0)\n",
      "Installing collected packages: gin-config, gym, opencv-python, dopamine-rl\n",
      "  Running setup.py install for gym: started\n",
      "    Running setup.py install for gym: finished with status 'done'\n",
      "Successfully installed dopamine-rl-1.0.2 gin-config-0.1.1.2 gym-0.10.5 opencv-python-3.4.3.18\n",
      "Collecting cmake\n",
      "  Downloading https://files.pythonhosted.org/packages/42/46/486a0e7e6a67ed22f5d84436c491200b4c933bb9d4f3fa5a8f20319b2e83/cmake-3.12.0-cp36-cp36m-win_amd64.whl (26.2MB)\n",
      "Installing collected packages: cmake\n",
      "Successfully installed cmake-3.12.0\n",
      "Collecting atari_py\n",
      "  Downloading https://files.pythonhosted.org/packages/8b/38/3c6716ac9031a686cc3228f3855e48c08a40e4d7c490dd4c21c65b465205/atari-py-0.1.1.tar.gz (760kB)\n",
      "Requirement already satisfied: numpy in c:\\users\\simi\\appdata\\local\\conda\\conda\\envs\\my_root\\lib\\site-packages (from atari_py) (1.13.3)\n",
      "Requirement already satisfied: six in c:\\users\\simi\\appdata\\local\\conda\\conda\\envs\\my_root\\lib\\site-packages (from atari_py) (1.11.0)\n",
      "Building wheels for collected packages: atari-py\n",
      "  Running setup.py bdist_wheel for atari-py: started\n",
      "  Running setup.py bdist_wheel for atari-py: finished with status 'error'\n",
      "  Complete output from command c:\\users\\simi\\appdata\\local\\conda\\conda\\envs\\my_root\\python.exe -u -c \"import setuptools, tokenize;__file__='C:\\\\Users\\\\Simi\\\\AppData\\\\Local\\\\Temp\\\\pip-install-mrejwvex\\\\atari-py\\\\setup.py';f=getattr(tokenize, 'open', open)(__file__);code=f.read().replace('\\r\\n', '\\n');f.close();exec(compile(code, __file__, 'exec'))\" bdist_wheel -d C:\\Users\\Simi\\AppData\\Local\\Temp\\pip-wheel-sn09kxxc --python-tag cp36:\n",
      "  running bdist_wheel\n",
      "  running build\n",
      "  Unable to execute 'make build -C atari_py/ale_interface -j 3'. HINT: are you sure `make` is installed?\n",
      "  error: [WinError 2] The system cannot find the file specified\n",
      "  \n",
      "  ----------------------------------------\n",
      "  Running setup.py clean for atari-py\n",
      "Failed to build atari-py\n",
      "Installing collected packages: atari-py\n",
      "  Running setup.py install for atari-py: started\n",
      "    Running setup.py install for atari-py: finished with status 'error'\n",
      "    Complete output from command c:\\users\\simi\\appdata\\local\\conda\\conda\\envs\\my_root\\python.exe -u -c \"import setuptools, tokenize;__file__='C:\\\\Users\\\\Simi\\\\AppData\\\\Local\\\\Temp\\\\pip-install-mrejwvex\\\\atari-py\\\\setup.py';f=getattr(tokenize, 'open', open)(__file__);code=f.read().replace('\\r\\n', '\\n');f.close();exec(compile(code, __file__, 'exec'))\" install --record C:\\Users\\Simi\\AppData\\Local\\Temp\\pip-record-6gwny6rn\\install-record.txt --single-version-externally-managed --compile:\n",
      "    running install\n",
      "    running build\n",
      "    Unable to execute 'make build -C atari_py/ale_interface -j 3'. HINT: are you sure `make` is installed?\n",
      "    error: [WinError 2] The system cannot find the file specified\n",
      "    \n",
      "    ----------------------------------------\n"
     ]
    },
    {
     "name": "stderr",
     "output_type": "stream",
     "text": [
      "  Failed building wheel for atari-py\n",
      "Command \"c:\\users\\simi\\appdata\\local\\conda\\conda\\envs\\my_root\\python.exe -u -c \"import setuptools, tokenize;__file__='C:\\\\Users\\\\Simi\\\\AppData\\\\Local\\\\Temp\\\\pip-install-mrejwvex\\\\atari-py\\\\setup.py';f=getattr(tokenize, 'open', open)(__file__);code=f.read().replace('\\r\\n', '\\n');f.close();exec(compile(code, __file__, 'exec'))\" install --record C:\\Users\\Simi\\AppData\\Local\\Temp\\pip-record-6gwny6rn\\install-record.txt --single-version-externally-managed --compile\" failed with error code 1 in C:\\Users\\Simi\\AppData\\Local\\Temp\\pip-install-mrejwvex\\atari-py\\\n"
     ]
    }
   ],
   "source": [
    "\n",
    "# @title Install necessary packages.# @title \n",
    "#dopamine for RL\n",
    "!pip install --upgrade --no-cache-dir dopamine-rl\n",
    "# dopamine dependencies\n",
    "!pip install cmake\n",
    "#Arcade Learning Environment\n",
    "!pip install atari_py"
   ]
  },
  {
   "cell_type": "code",
   "execution_count": 2,
   "metadata": {},
   "outputs": [
    {
     "name": "stdout",
     "output_type": "stream",
     "text": [
      "hello\n"
     ]
    }
   ],
   "source": [
    "print('hello')"
   ]
  },
  {
   "cell_type": "code",
   "execution_count": null,
   "metadata": {},
   "outputs": [],
   "source": []
  }
 ],
 "metadata": {
  "kernelspec": {
   "display_name": "Python 3",
   "language": "python",
   "name": "python3"
  },
  "language_info": {
   "codemirror_mode": {
    "name": "ipython",
    "version": 3
   },
   "file_extension": ".py",
   "mimetype": "text/x-python",
   "name": "python",
   "nbconvert_exporter": "python",
   "pygments_lexer": "ipython3",
   "version": "3.6.3"
  }
 },
 "nbformat": 4,
 "nbformat_minor": 2
}
